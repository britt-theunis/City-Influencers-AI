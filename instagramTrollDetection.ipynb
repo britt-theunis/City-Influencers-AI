{
 "cells": [
  {
   "cell_type": "code",
   "execution_count": 1,
   "metadata": {},
   "outputs": [],
   "source": [
    "import os\n",
    "import re\n",
    "import json\n",
    "import pandas as pd\n",
    "import numpy as np\n",
    "\n",
    "from sklearn.model_selection import train_test_split\n",
    "from sklearn.metrics import classification_report\n",
    "from sklearn.metrics import confusion_matrix\n",
    "import seaborn as sns\n",
    "from sklearn.linear_model import LogisticRegression\n",
    "from sklearn.ensemble import RandomForestClassifier, GradientBoostingClassifier\n",
    "from sklearn.svm import SVC\n",
    "from sklearn.naive_bayes import GaussianNB\n",
    "from sklearn.model_selection import cross_validate\n",
    "from sklearn.metrics import confusion_matrix\n",
    "from sklearn.model_selection import GridSearchCV\n",
    "from sklearn.pipeline import Pipeline\n",
    "from sklearn.preprocessing import StandardScaler\n",
    "from sklearn.metrics import classification_report"
   ]
  },
  {
   "cell_type": "code",
   "execution_count": 2,
   "metadata": {},
   "outputs": [],
   "source": [
    "def import_data():\n",
    "    with open(\"data/automated/automatedAccountData.json\") as json_file:\n",
    "        automated_account_data = json.load(json_file)\n",
    "    with open(\"data/automated/nonautomatedAccountData.json\") as json_file:\n",
    "        nonautomated_account_data = json.load(json_file)\n",
    "        \n",
    "    automated_account_dataframe = create_dataframe(automated_account_data)\n",
    "    nonautomated_account_dataframe = create_dataframe(nonautomated_account_data)\n",
    "    merged_dataframe = automated_account_dataframe.append(nonautomated_account_dataframe, ignore_index=True)\n",
    "            \n",
    "    return merged_dataframe"
   ]
  },
  {
   "cell_type": "code",
   "execution_count": 3,
   "metadata": {},
   "outputs": [],
   "source": [
    "def create_dataframe(account_data_list):\n",
    "    dataframe = pd.DataFrame({})\n",
    "\n",
    "    for account_data in account_data_list:\n",
    "        user_follower_count = account_data[\"userFollowerCount\"]\n",
    "        user_following_count = account_data[\"userFollowingCount\"]\n",
    "        follower_following_ratio = user_follower_count/max(1,user_following_count)\n",
    "        \n",
    "        temp_dataframe = pd.Series({\"user_media_count\":account_data[\"userMediaCount\"],\n",
    "                                    \"user_follower_count\":account_data[\"userFollowerCount\"],\n",
    "                                    \"user_following_count\":account_data[\"userFollowingCount\"],\n",
    "                                    \"user_has_highligh_reels\":account_data[\"userHasHighlighReels\"],\n",
    "                                    \"user_has_external_url\":account_data[\"userHasExternalUrl\"],\n",
    "                                    \"user_tags_count\":account_data[\"userTagsCount\"],\n",
    "                                    \"follower_following_ratio\":follower_following_ratio,\n",
    "                                    \"user_biography_length\":account_data[\"userBiographyLength\"],\n",
    "                                    \"username_length\":account_data[\"usernameLength\"],\n",
    "                                    \"username_digit_count\":account_data[\"usernameDigitCount\"],\n",
    "                                    \"media_comment_numbers\":account_data[\"mediaCommentNumbers\"],\n",
    "                                    \"media_comments_are_disabled\":account_data[\"mediaCommentNumbers\"],\n",
    "                                    \"media_has_location_info\":account_data[\"mediaHasLocationInfo\"],\n",
    "                                    \"media_hashtag_numbers\":account_data[\"mediaHashtagNumbers\"],\n",
    "                                    \"media_like_numbers\":account_data[\"mediaLikeNumbers\"],\n",
    "                                    \"mediaUpload_times\":account_data[\"mediaUploadTimes\"],\n",
    "                                    \"automated_behaviour\":account_data[\"automatedBehaviour\"]\n",
    "                                    })\n",
    "        dataframe = dataframe.append(temp_dataframe, ignore_index=True)\n",
    "        \n",
    "    return dataframe"
   ]
  },
  {
   "cell_type": "code",
   "execution_count": 4,
   "metadata": {},
   "outputs": [],
   "source": [
    "def get_classifier_cv_score(model, X, y, scoring='accuracy', cv=7):\n",
    "    scores = cross_validate(model, X, y, cv=cv, scoring=scoring, return_train_score=True)\n",
    "    train_scores = scores['train_score']\n",
    "    val_scores = scores['test_score']\n",
    "    \n",
    "    train_mean = np.mean(train_scores)\n",
    "    val_mean = np.mean(val_scores)\n",
    "    \n",
    "    return train_mean, val_mean\n",
    "    \n",
    "def print_grid_search_result(grid_search):   \n",
    "    print(grid_search.best_params_)\n",
    "    \n",
    "    best_train = grid_search.cv_results_[\"mean_train_score\"][grid_search.best_index_]\n",
    "    print(\"best mean_train_score: {:.3f}\".format(best_train))\n",
    "        \n",
    "    best_test = grid_search.cv_results_[\"mean_test_score\"][grid_search.best_index_]\n",
    "    print(\"best mean_test_score: {:.3f}\".format(best_test))\n",
    "\n",
    "def plot_confusion_matrix(y_actual, y_pred, labels, title=''):\n",
    "    data = confusion_matrix(y_actual, y_pred)\n",
    "    ax = sns.heatmap(data,\n",
    "                     annot=True,\n",
    "                     cbar=False,\n",
    "                     fmt='d',\n",
    "                     xticklabels = labels,\n",
    "                     yticklabels = labels)\n",
    "    ax.set_title(title)\n",
    "    ax.set_xlabel(\"predicted values\")\n",
    "    ax.set_ylabel(\"actual values\")\n"
   ]
  },
  {
   "cell_type": "markdown",
   "metadata": {},
   "source": [
    "## Automated accounts"
   ]
  },
  {
   "cell_type": "code",
   "execution_count": 5,
   "metadata": {},
   "outputs": [],
   "source": [
    "df_automated = import_data()"
   ]
  },
  {
   "cell_type": "code",
   "execution_count": 6,
   "metadata": {},
   "outputs": [],
   "source": [
    "df_automated['avg_media_comment_numbers'] = pd.DataFrame(df_automated['media_comment_numbers'].values.tolist()).mean(1)\n",
    "df_automated['avg_media_has_location_info'] = pd.DataFrame(df_automated['media_has_location_info'].values.tolist()).mean(1)\n",
    "df_automated['avg_media_hashtag_numbers'] = pd.DataFrame(df_automated['media_hashtag_numbers'].values.tolist()).mean(1)\n",
    "df_automated['avg_media_like_numbers'] = pd.DataFrame(df_automated['media_like_numbers'].values.tolist()).mean(1)\n",
    "df_automated['avg_media_comment_numbers'] = pd.DataFrame(df_automated['avg_media_comment_numbers']).fillna(0)\n",
    "df_automated['avg_media_has_location_info'] = pd.DataFrame(df_automated['avg_media_has_location_info']).fillna(0)\n",
    "df_automated['avg_media_hashtag_numbers'] = pd.DataFrame(df_automated['avg_media_hashtag_numbers']).fillna(0)\n",
    "df_automated['avg_media_like_numbers'] = pd.DataFrame(df_automated['avg_media_like_numbers']).fillna(0)"
   ]
  },
  {
   "cell_type": "code",
   "execution_count": 7,
   "metadata": {},
   "outputs": [],
   "source": [
    "class_names = ['Echt account', 'Automated account']"
   ]
  },
  {
   "cell_type": "markdown",
   "metadata": {},
   "source": [
    "### Splitsen van data"
   ]
  },
  {
   "cell_type": "code",
   "execution_count": 8,
   "metadata": {},
   "outputs": [],
   "source": [
    "X= df_automated[['user_media_count', 'user_follower_count', 'user_following_count',\n",
    "       'user_has_highligh_reels', 'user_has_external_url', 'user_tags_count',\n",
    "       'follower_following_ratio', 'user_biography_length', 'username_length',\n",
    "       'username_digit_count', 'avg_media_comment_numbers',\n",
    "       'avg_media_has_location_info',\n",
    "       'avg_media_hashtag_numbers', 'avg_media_like_numbers']].values.reshape(-1,14)\n",
    "y= df_automated['automated_behaviour'].values\n",
    "\n",
    "X_train, X_test, y_train, y_test = train_test_split(X, y, test_size=0.2, random_state=0)"
   ]
  },
  {
   "cell_type": "markdown",
   "metadata": {},
   "source": [
    "### Vergelijken van modellen met cross-validation"
   ]
  },
  {
   "cell_type": "code",
   "execution_count": 9,
   "metadata": {},
   "outputs": [
    {
     "name": "stderr",
     "output_type": "stream",
     "text": [
      "C:\\Users\\Eigenaar\\AppData\\Local\\Programs\\Python\\Python39\\lib\\site-packages\\sklearn\\linear_model\\_logistic.py:814: ConvergenceWarning: lbfgs failed to converge (status=1):\n",
      "STOP: TOTAL NO. of ITERATIONS REACHED LIMIT.\n",
      "\n",
      "Increase the number of iterations (max_iter) or scale the data as shown in:\n",
      "    https://scikit-learn.org/stable/modules/preprocessing.html\n",
      "Please also refer to the documentation for alternative solver options:\n",
      "    https://scikit-learn.org/stable/modules/linear_model.html#logistic-regression\n",
      "  n_iter_i = _check_optimize_result(\n",
      "C:\\Users\\Eigenaar\\AppData\\Local\\Programs\\Python\\Python39\\lib\\site-packages\\sklearn\\linear_model\\_logistic.py:814: ConvergenceWarning: lbfgs failed to converge (status=2):\n",
      "ABNORMAL_TERMINATION_IN_LNSRCH.\n",
      "\n",
      "Increase the number of iterations (max_iter) or scale the data as shown in:\n",
      "    https://scikit-learn.org/stable/modules/preprocessing.html\n",
      "Please also refer to the documentation for alternative solver options:\n",
      "    https://scikit-learn.org/stable/modules/linear_model.html#logistic-regression\n",
      "  n_iter_i = _check_optimize_result(\n"
     ]
    },
    {
     "name": "stdout",
     "output_type": "stream",
     "text": [
      "-------------------------------------\n",
      "Model: GradientBoostingClassifier \n",
      "train_score: 1.000\n",
      "validation_score: 0.987\n",
      "-------------------------------------\n",
      "Model: RandomForestClassifier \n",
      "train_score: 1.000\n",
      "validation_score: 0.985\n",
      "-------------------------------------\n",
      "Model: SVC \n",
      "train_score: 0.953\n",
      "validation_score: 0.954\n",
      "-------------------------------------\n",
      "Model: LogisticRegression \n",
      "train_score: 0.958\n",
      "validation_score: 0.945\n",
      "-------------------------------------\n",
      "Model: GaussianNB \n",
      "train_score: 0.949\n",
      "validation_score: 0.939\n",
      "-------------------------------------\n"
     ]
    }
   ],
   "source": [
    "model_list = [LogisticRegression(max_iter=600),\n",
    "              SVC(), \n",
    "              GaussianNB(),\n",
    "              RandomForestClassifier(random_state=55),\n",
    "              GradientBoostingClassifier(random_state=56)]\n",
    "\n",
    "train_scores = []\n",
    "val_scores = []\n",
    "\n",
    "for model in model_list:\n",
    "    train, val = get_classifier_cv_score(model, X_train, y_train,'average_precision')\n",
    "    train_scores.append(train)\n",
    "    val_scores.append(val)\n",
    "    \n",
    "models_score = sorted(list(zip(val_scores, train_scores, model_list)), reverse=True)\n",
    "\n",
    "print(\"-------------------------------------\")\n",
    "for val, train, model in models_score:\n",
    "    print(\"Model: {} \".format(model.__class__.__name__))\n",
    "\n",
    "    print(\"train_score: {:.3f}\".format(train)) \n",
    "\n",
    "    print(\"validation_score: {:.3f}\".format(val)) \n",
    "\n",
    "    print(\"-------------------------------------\")"
   ]
  },
  {
   "cell_type": "markdown",
   "metadata": {},
   "source": [
    "### Hyperparameter tuning met grid search"
   ]
  },
  {
   "cell_type": "code",
   "execution_count": 10,
   "metadata": {},
   "outputs": [
    {
     "name": "stdout",
     "output_type": "stream",
     "text": [
      "{'max_depth': 9, 'n_estimators': 500}\n",
      "best mean_train_score: 1.000\n",
      "best mean_test_score: 0.988\n"
     ]
    }
   ],
   "source": [
    "model = RandomForestClassifier(random_state=55)\n",
    "\n",
    "parameters = {'n_estimators': [300, 500, 700, 1000],\n",
    "              'max_depth': [7, 9, 11, 13]}\n",
    "\n",
    "grid1 = GridSearchCV(model, parameters, cv=7, scoring='average_precision',return_train_score=True)\n",
    "grid1.fit(X_train, y_train)\n",
    "print_grid_search_result(grid1)"
   ]
  },
  {
   "cell_type": "markdown",
   "metadata": {},
   "source": [
    "### Grid search -> gradient boosting classifier"
   ]
  },
  {
   "cell_type": "code",
   "execution_count": 11,
   "metadata": {},
   "outputs": [
    {
     "name": "stdout",
     "output_type": "stream",
     "text": [
      "{'learning_rate': 0.1, 'n_estimators': 100}\n",
      "best mean_train_score: 1.000\n",
      "best mean_test_score: 0.986\n"
     ]
    }
   ],
   "source": [
    "model = GradientBoostingClassifier(max_depth=5, random_state=56)\n",
    "\n",
    "parameters = {'n_estimators': [50, 100, 200],\n",
    "              'learning_rate': [0.001, 0.01, 0.1, 1.0, 10.0]}\n",
    "\n",
    "grid2 = GridSearchCV(model, parameters, cv=7, scoring='average_precision', return_train_score=True)\n",
    "grid2.fit(X_train, y_train)\n",
    "print_grid_search_result(grid2)"
   ]
  },
  {
   "cell_type": "markdown",
   "metadata": {},
   "source": [
    "### Pipeline"
   ]
  },
  {
   "cell_type": "code",
   "execution_count": 12,
   "metadata": {},
   "outputs": [
    {
     "data": {
      "text/plain": [
       "Pipeline(steps=[('preprocessing', StandardScaler()),\n",
       "                ('classifier',\n",
       "                 RandomForestClassifier(max_depth=9, n_estimators=500,\n",
       "                                        random_state=55))])"
      ]
     },
     "execution_count": 12,
     "metadata": {},
     "output_type": "execute_result"
    }
   ],
   "source": [
    "pipeline = Pipeline([('preprocessing', StandardScaler()), ('classifier', grid1.best_estimator_)])\n",
    "pipeline.fit(X_train, y_train)"
   ]
  },
  {
   "cell_type": "markdown",
   "metadata": {},
   "source": [
    "### Final evaluation"
   ]
  },
  {
   "cell_type": "code",
   "execution_count": 13,
   "metadata": {},
   "outputs": [
    {
     "name": "stdout",
     "output_type": "stream",
     "text": [
      "Test score: 0.961\n"
     ]
    }
   ],
   "source": [
    "print(\"Test score: {:.3f}\".format(pipeline.score(X_test, y_test)))"
   ]
  },
  {
   "cell_type": "code",
   "execution_count": 14,
   "metadata": {},
   "outputs": [
    {
     "name": "stdout",
     "output_type": "stream",
     "text": [
      "                   precision    recall  f1-score   support\n",
      "\n",
      "     Echt account       0.96      0.96      0.96       135\n",
      "Automated account       0.96      0.97      0.96       145\n",
      "\n",
      "         accuracy                           0.96       280\n",
      "        macro avg       0.96      0.96      0.96       280\n",
      "     weighted avg       0.96      0.96      0.96       280\n",
      "\n"
     ]
    }
   ],
   "source": [
    "y_pred = pipeline.predict(X_test)\n",
    "print(classification_report(y_test, y_pred, target_names=class_names))"
   ]
  },
  {
   "cell_type": "code",
   "execution_count": 15,
   "metadata": {},
   "outputs": [
    {
     "data": {
      "image/png": "[encoded data removed]",
      "text/plain": [
       "<Figure size 432x288 with 1 Axes>"
      ]
     },
     "metadata": {
      "needs_background": "light"
     },
     "output_type": "display_data"
    }
   ],
   "source": [
    "plot_confusion_matrix(y_test, y_pred, class_names)"
   ]
  },
  {
   "cell_type": "code",
   "execution_count": 16,
   "metadata": {},
   "outputs": [
    {
     "name": "stdout",
     "output_type": "stream",
     "text": [
      "Echt account\n"
     ]
    }
   ],
   "source": [
    "# test mijn mijn instagram account\n",
    "X_britt = [[3, 621, 428, 0, 0, 1, (621/428), 1, 13, 0, 4, 0, 0, 118]]\n",
    "y_pred = pipeline.predict(X_britt)\n",
    "print(class_names[np.argmax(y_pred)])"
   ]
  }
 ],
 "metadata": {
  "interpreter": {
   "hash": "e9efe275de89270cf0d9a414158c7c6b87af0a6303f6038d1925d6aaf54a8f58"
  },
  "kernelspec": {
   "display_name": "Python 3.9.7 64-bit",
   "language": "python",
   "name": "python3"
  },
  "language_info": {
   "codemirror_mode": {
    "name": "ipython",
    "version": 3
   },
   "file_extension": ".py",
   "mimetype": "text/x-python",
   "name": "python",
   "nbconvert_exporter": "python",
   "pygments_lexer": "ipython3",
   "version": "3.9.7"
  },
  "orig_nbformat": 4
 },
 "nbformat": 4,
 "nbformat_minor": 2
}
